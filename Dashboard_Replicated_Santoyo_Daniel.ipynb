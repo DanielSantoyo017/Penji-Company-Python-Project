{
 "cells": [
  {
   "cell_type": "code",
   "execution_count": 1,
   "id": "8a3d9d68-6034-4170-a7ef-db675ad5f918",
   "metadata": {},
   "outputs": [],
   "source": [
    "import pandas as pd\n",
    "\n",
    "#Reading csv files\n",
    "Sessions_Peer = pd.read_csv(\"sessions_peer_mentoring.csv\")\n",
    "Checkins_Peer = pd.read_csv(\"check_ins_peer_mentoring.csv\")\n",
    "Sessions = pd.read_csv(\"sessions.csv\")\n",
    "Checkins = pd.read_csv(\"check_ins.csv\")"
   ]
  },
  {
   "cell_type": "code",
   "execution_count": 5,
   "id": "03c595b3-b55e-4f4a-a9b9-6b31cabcb4d5",
   "metadata": {},
   "outputs": [
    {
     "data": {
      "text/html": [
       "<style type=\"text/css\">\n",
       "#T_134a5 th {\n",
       "  text-align: left;\n",
       "}\n",
       "#T_134a5_row0_col0, #T_134a5_row0_col1, #T_134a5_row0_col2, #T_134a5_row0_col3, #T_134a5_row0_col4, #T_134a5_row0_col5, #T_134a5_row1_col0, #T_134a5_row1_col1, #T_134a5_row1_col2, #T_134a5_row1_col3, #T_134a5_row1_col4, #T_134a5_row1_col5 {\n",
       "  text-align: left;\n",
       "}\n",
       "</style>\n",
       "<table id=\"T_134a5\">\n",
       "  <thead>\n",
       "    <tr>\n",
       "      <th class=\"blank level0\" >&nbsp;</th>\n",
       "      <th id=\"T_134a5_level0_col0\" class=\"col_heading level0 col0\" >Community</th>\n",
       "      <th id=\"T_134a5_level0_col1\" class=\"col_heading level0 col1\" >School</th>\n",
       "      <th id=\"T_134a5_level0_col2\" class=\"col_heading level0 col2\" >Appointments</th>\n",
       "      <th id=\"T_134a5_level0_col3\" class=\"col_heading level0 col3\" >Drop-in Check-ins</th>\n",
       "      <th id=\"T_134a5_level0_col4\" class=\"col_heading level0 col4\" >Sections</th>\n",
       "      <th id=\"T_134a5_level0_col5\" class=\"col_heading level0 col5\" >Sessions - % Absent</th>\n",
       "    </tr>\n",
       "  </thead>\n",
       "  <tbody>\n",
       "    <tr>\n",
       "      <th id=\"T_134a5_level0_row0\" class=\"row_heading level0 row0\" >0</th>\n",
       "      <td id=\"T_134a5_row0_col0\" class=\"data row0 col0\" >Tutoring Center</td>\n",
       "      <td id=\"T_134a5_row0_col1\" class=\"data row0 col1\" >CSU Penji</td>\n",
       "      <td id=\"T_134a5_row0_col2\" class=\"data row0 col2\" >891</td>\n",
       "      <td id=\"T_134a5_row0_col3\" class=\"data row0 col3\" >388</td>\n",
       "      <td id=\"T_134a5_row0_col4\" class=\"data row0 col4\" >572</td>\n",
       "      <td id=\"T_134a5_row0_col5\" class=\"data row0 col5\" >29.000000</td>\n",
       "    </tr>\n",
       "    <tr>\n",
       "      <th id=\"T_134a5_level0_row1\" class=\"row_heading level0 row1\" >1</th>\n",
       "      <td id=\"T_134a5_row1_col0\" class=\"data row1 col0\" >Peer Mentoring</td>\n",
       "      <td id=\"T_134a5_row1_col1\" class=\"data row1 col1\" >UC Penji</td>\n",
       "      <td id=\"T_134a5_row1_col2\" class=\"data row1 col2\" >104</td>\n",
       "      <td id=\"T_134a5_row1_col3\" class=\"data row1 col3\" >43</td>\n",
       "      <td id=\"T_134a5_row1_col4\" class=\"data row1 col4\" >43</td>\n",
       "      <td id=\"T_134a5_row1_col5\" class=\"data row1 col5\" >31.000000</td>\n",
       "    </tr>\n",
       "  </tbody>\n",
       "</table>\n"
      ],
      "text/plain": [
       "<pandas.io.formats.style.Styler at 0x1ff8eea7c40>"
      ]
     },
     "execution_count": 5,
     "metadata": {},
     "output_type": "execute_result"
    }
   ],
   "source": [
    "### Final dashboard example df\n",
    "\n",
    "#Union on Tut and Peer to create final df\n",
    "Final = pd.concat([Tut,Peer], axis=0, ignore_index=True)\n",
    "\n",
    "#Final df formatted\n",
    "Final.style.set_properties(**{'text-align': 'left'}).set_table_styles(\n",
    "[dict(selector = 'th', props=[('text-align', 'left')])])"
   ]
  },
  {
   "cell_type": "code",
   "execution_count": null,
   "id": "bc27bfc5-cdf2-40ed-aad3-f4e39867727b",
   "metadata": {},
   "outputs": [],
   "source": [
    "#Below is all of the work"
   ]
  },
  {
   "cell_type": "code",
   "execution_count": 2,
   "id": "cd7625e6-066c-4a6c-b5d2-2c195d594282",
   "metadata": {},
   "outputs": [],
   "source": [
    "# Data manipulation\n",
    "\n",
    "# Function to describe \"kind\" for check-ins\n",
    "def Add_Kind(Table):\n",
    "    Table['Kind'] = 'Drop-In Tutoring'\n",
    "\n",
    "# Functions adding comunity and school data fields to describe each community\n",
    "def Tut_Cntr(Table):\n",
    "    Table['Community'] = 'Tutoring Center'\n",
    "    Table['School'] = 'CSU Penji'\n",
    "\n",
    "def Peer_Mnt(Table):\n",
    "    Table['Community'] = 'Peer Mentoring'\n",
    "    Table['School'] = 'UC Penji'\n",
    "                 \n",
    "#Calling Add_Kind function\n",
    "Add_Kind(Checkins)\n",
    "Add_Kind(Checkins_Peer)\n",
    "                 \n",
    "#Calling Tut_Cntr funciton\n",
    "Tut_Cntr(Sessions)\n",
    "Tut_Cntr(Checkins)  \n",
    "                 \n",
    "#Calling Peer_Mnt function\n",
    "Peer_Mnt(Sessions_Peer)\n",
    "Peer_Mnt(Checkins_Peer)\n",
    "\n",
    "#Creating Tutoring and Menotring tables\n",
    "Tutoring_Center = pd.concat([Sessions, Checkins], axis=0, ignore_index=True)\n",
    "Peer_Mentoring = pd.concat([Sessions_Peer, Checkins_Peer], axis=0, ignore_index=True)"
   ]
  },
  {
   "cell_type": "code",
   "execution_count": 3,
   "id": "cafeb43c-afda-46b1-8165-bfa6255bfca5",
   "metadata": {},
   "outputs": [
    {
     "data": {
      "text/html": [
       "<div>\n",
       "<style scoped>\n",
       "    .dataframe tbody tr th:only-of-type {\n",
       "        vertical-align: middle;\n",
       "    }\n",
       "\n",
       "    .dataframe tbody tr th {\n",
       "        vertical-align: top;\n",
       "    }\n",
       "\n",
       "    .dataframe thead th {\n",
       "        text-align: right;\n",
       "    }\n",
       "</style>\n",
       "<table border=\"1\" class=\"dataframe\">\n",
       "  <thead>\n",
       "    <tr style=\"text-align: right;\">\n",
       "      <th></th>\n",
       "      <th>Community</th>\n",
       "      <th>School</th>\n",
       "      <th>Appointments</th>\n",
       "      <th>Drop-in Check-ins</th>\n",
       "      <th>Sections</th>\n",
       "      <th>Sessions - % Absent</th>\n",
       "    </tr>\n",
       "  </thead>\n",
       "  <tbody>\n",
       "    <tr>\n",
       "      <th>0</th>\n",
       "      <td>Tutoring Center</td>\n",
       "      <td>CSU Penji</td>\n",
       "      <td>891</td>\n",
       "      <td>388</td>\n",
       "      <td>572</td>\n",
       "      <td>29.0</td>\n",
       "    </tr>\n",
       "  </tbody>\n",
       "</table>\n",
       "</div>"
      ],
      "text/plain": [
       "         Community     School  Appointments  Drop-in Check-ins  Sections  \\\n",
       "0  Tutoring Center  CSU Penji           891                388       572   \n",
       "\n",
       "   Sessions - % Absent  \n",
       "0                 29.0  "
      ]
     },
     "execution_count": 3,
     "metadata": {},
     "output_type": "execute_result"
    }
   ],
   "source": [
    "## Tutoring Center analysis \"Tut\"\n",
    "\n",
    "#Count of total appiotnemnts (all sessions that are not drop-in tutoring)\n",
    "df_TutA = Tutoring_Center[Tutoring_Center.Kind != \"Drop-In Tutoring\"].groupby([\"Community\",\"School\"])[\"Community\"].count().reset_index(name=\"Appointments\") \n",
    "\n",
    "#Count of total drop-in sessions\n",
    "df_TutB = Tutoring_Center[Tutoring_Center.Kind == \"Drop-In Tutoring\"].groupby([\"Community\",\"School\"])[\"Community\"].count().reset_index(name=\"Drop-in Check-ins\")\n",
    "\n",
    "#Count of total sections (Only avalible for sessions.csv)\n",
    "df_TutC = Tutoring_Center.groupby([\"Community\",\"School\"])[\"Section\"].count().reset_index(name=\"Sections\")\n",
    "\n",
    "#Count of canclled sessions divided by total sessions\n",
    "df_TutD = ((Tutoring_Center[Tutoring_Center.Status == \"Cancelled\"].groupby([\"Community\",\"School\"])[\"Community\"].count()/Tutoring_Center.groupby([\"Community\",\"School\"])[\"Community\"].count())*100).round().reset_index(name=\"Sessions - % Absent\")\n",
    "\n",
    "#Merging all sessions Calculations\n",
    "Tut = df_TutA.merge(df_TutB,how ='inner').merge(df_TutC,how ='inner').merge(df_TutD,how ='inner')\n",
    "\n",
    "#Final df displaying all relevent metrics\n",
    "Tut"
   ]
  },
  {
   "cell_type": "code",
   "execution_count": 4,
   "id": "ec1bb1c4-3c7d-4f5a-ae3f-a3df8a306f70",
   "metadata": {},
   "outputs": [
    {
     "data": {
      "text/html": [
       "<div>\n",
       "<style scoped>\n",
       "    .dataframe tbody tr th:only-of-type {\n",
       "        vertical-align: middle;\n",
       "    }\n",
       "\n",
       "    .dataframe tbody tr th {\n",
       "        vertical-align: top;\n",
       "    }\n",
       "\n",
       "    .dataframe thead th {\n",
       "        text-align: right;\n",
       "    }\n",
       "</style>\n",
       "<table border=\"1\" class=\"dataframe\">\n",
       "  <thead>\n",
       "    <tr style=\"text-align: right;\">\n",
       "      <th></th>\n",
       "      <th>Community</th>\n",
       "      <th>School</th>\n",
       "      <th>Appointments</th>\n",
       "      <th>Drop-in Check-ins</th>\n",
       "      <th>Sections</th>\n",
       "      <th>Sessions - % Absent</th>\n",
       "    </tr>\n",
       "  </thead>\n",
       "  <tbody>\n",
       "    <tr>\n",
       "      <th>0</th>\n",
       "      <td>Peer Mentoring</td>\n",
       "      <td>UC Penji</td>\n",
       "      <td>104</td>\n",
       "      <td>43</td>\n",
       "      <td>43</td>\n",
       "      <td>31.0</td>\n",
       "    </tr>\n",
       "  </tbody>\n",
       "</table>\n",
       "</div>"
      ],
      "text/plain": [
       "        Community    School  Appointments  Drop-in Check-ins  Sections  \\\n",
       "0  Peer Mentoring  UC Penji           104                 43        43   \n",
       "\n",
       "   Sessions - % Absent  \n",
       "0                 31.0  "
      ]
     },
     "execution_count": 4,
     "metadata": {},
     "output_type": "execute_result"
    }
   ],
   "source": [
    "## Peer Mentoring analysis \"Peer\"\n",
    "\n",
    "#Count of total peer appointments (all sessions that are not drop-in tutoring)\n",
    "df_PerA = Peer_Mentoring[Peer_Mentoring.Kind != \"Drop-In Tutoring\"].groupby([\"Community\",\"School\"])[\"Community\"].count().reset_index(name=\"Appointments\") \n",
    "\n",
    "#Count of total peer drop-in sessions\n",
    "df_PerB = Peer_Mentoring[Peer_Mentoring.Kind == \"Drop-In Tutoring\"].groupby([\"Community\",\"School\"])[\"Community\"].count().reset_index(name=\"Drop-in Check-ins\")\n",
    "\n",
    "#Count of total sections (Only avalible for sessions_peer_mentoring.csv)\n",
    "df_PerC = Peer_Mentoring.groupby([\"Community\",\"School\"])[\"Section\"].count().reset_index(name=\"Sections\")\n",
    "\n",
    "#Count of canclled peer sessions divided by total peer sessions\n",
    "df_PerD = ((Peer_Mentoring[Peer_Mentoring.Status == \"Cancelled\"].groupby([\"Community\",\"School\"])[\"Community\"].count()/Peer_Mentoring.groupby([\"Community\",\"School\"])[\"Community\"].count())*100).round().reset_index(name=\"Sessions - % Absent\")\n",
    "\n",
    "#Merging all sessions Calculations\n",
    "Peer = df_PerA.merge(df_PerB,how ='inner').merge(df_PerC,how ='inner').merge(df_PerD,how ='inner')\n",
    "\n",
    "#Final df displaying all peer mentoring metrics\n",
    "Peer"
   ]
  }
 ],
 "metadata": {
  "kernelspec": {
   "display_name": "Python 3 (ipykernel)",
   "language": "python",
   "name": "python3"
  },
  "language_info": {
   "codemirror_mode": {
    "name": "ipython",
    "version": 3
   },
   "file_extension": ".py",
   "mimetype": "text/x-python",
   "name": "python",
   "nbconvert_exporter": "python",
   "pygments_lexer": "ipython3",
   "version": "3.9.13"
  }
 },
 "nbformat": 4,
 "nbformat_minor": 5
}
